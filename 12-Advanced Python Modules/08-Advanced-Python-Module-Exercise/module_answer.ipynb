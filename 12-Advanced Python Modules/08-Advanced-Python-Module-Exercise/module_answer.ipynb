{
 "cells": [
  {
   "cell_type": "code",
   "execution_count": 1,
   "id": "27365296",
   "metadata": {},
   "outputs": [],
   "source": [
    "import shutil"
   ]
  },
  {
   "cell_type": "code",
   "execution_count": 53,
   "id": "28ed4933",
   "metadata": {},
   "outputs": [],
   "source": [
    "dir_for_extract_result = 'instruction'\n",
    "shutil.unpack_archive('unzip_me_for_instructions.zip',dir_for_extract_result,'zip')"
   ]
  },
  {
   "cell_type": "code",
   "execution_count": 54,
   "id": "71979310",
   "metadata": {},
   "outputs": [
    {
     "name": "stdout",
     "output_type": "stream",
     "text": [
      "Good work on unzipping the file!\n",
      "You should now see 5 folders, each with a lot of random .txt files.\n",
      "Within one of these text files is a telephone number formated ###-###-#### \n",
      "Use the Python os module and regular expressions to iterate through each file, open it, and search for a telephone number.\n",
      "Good luck!\n"
     ]
    }
   ],
   "source": [
    "f = open('instruction/extracted_content/Instructions.txt', 'r')\n",
    "print(f.read())\n",
    "f.close()"
   ]
  },
  {
   "cell_type": "code",
   "execution_count": 42,
   "id": "c1e3ad43",
   "metadata": {},
   "outputs": [],
   "source": [
    "results = re.search(r'\\d{3}-\\d{3}-\\d{4}', file_content)"
   ]
  },
  {
   "cell_type": "code",
   "execution_count": 48,
   "id": "25e9c1ed",
   "metadata": {},
   "outputs": [],
   "source": [
    "if results:\n",
    "    results.group()"
   ]
  },
  {
   "cell_type": "code",
   "execution_count": 56,
   "id": "89cb20fc",
   "metadata": {},
   "outputs": [
    {
     "name": "stdout",
     "output_type": "stream",
     "text": [
      "719-266-2837\n"
     ]
    }
   ],
   "source": [
    "import re\n",
    "import os\n",
    "\n",
    "for folder , sub_folders , files in os.walk('extracted_content'):\n",
    "    for f in files:\n",
    "        fi_name = folder + '/' + f\n",
    "        fi = open(fi_name, 'r')\n",
    "        file_content = fi.read()\n",
    "        results = re.search(r'\\d{3}-\\d{3}-\\d{4}', file_content)\n",
    "        if results:\n",
    "            print(results.group())\n",
    "        fi.close()"
   ]
  },
  {
   "cell_type": "code",
   "execution_count": null,
   "id": "16f9ecd1",
   "metadata": {},
   "outputs": [],
   "source": []
  }
 ],
 "metadata": {
  "kernelspec": {
   "display_name": "Python 3",
   "language": "python",
   "name": "python3"
  },
  "language_info": {
   "codemirror_mode": {
    "name": "ipython",
    "version": 3
   },
   "file_extension": ".py",
   "mimetype": "text/x-python",
   "name": "python",
   "nbconvert_exporter": "python",
   "pygments_lexer": "ipython3",
   "version": "3.6.9"
  }
 },
 "nbformat": 4,
 "nbformat_minor": 5
}
